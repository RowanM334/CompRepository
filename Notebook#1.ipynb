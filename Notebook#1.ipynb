{
  "metadata": {
    "kernelspec": {
      "name": "python",
      "display_name": "Python (Pyodide)",
      "language": "python"
    },
    "language_info": {
      "codemirror_mode": {
        "name": "python",
        "version": 3
      },
      "file_extension": ".py",
      "mimetype": "text/x-python",
      "name": "python",
      "nbconvert_exporter": "python",
      "pygments_lexer": "ipython3",
      "version": "3.8"
    }
  },
  "nbformat_minor": 5,
  "nbformat": 4,
  "cells": [
    {
      "id": "74461567-164b-4200-bd5f-79a4dd2c705b",
      "cell_type": "code",
      "source": "# Define constants\nv0 = 50  # Initial velocity in m/s\ntheta = 45  # Launch angle in degrees\ng = 9.81  # Acceleration due to gravity in m/s²\n\n# Convert angle to radians\ntheta_rad = np.radians(theta)\n\n# Define time intervals (seconds)\ntime_intervals = np.array([0, 1, 2, 3, 4, 5])\n\n# Iterate over time intervals and calculate positions\nfor t in time_intervals:\n    x = v0 * np.cos(theta_rad) * t  # Horizontal position\n    y = v0 * np.sin(theta_rad) * t - 0.5 * g * t ** 2  # Vertical position\n    \n    # Print results\n    print(f\"Time: {t}s -> Horizontal Position: {x:.2f} m, Vertical Position: {y:.2f} m\")",
      "metadata": {
        "trusted": true
      },
      "outputs": [],
      "execution_count": null
    }
  ]
}